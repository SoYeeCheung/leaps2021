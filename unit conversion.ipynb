{
 "cells": [
  {
   "cell_type": "code",
   "execution_count": null,
   "metadata": {
    "scrolled": true
   },
   "outputs": [],
   "source": [
    "#convert brightness to temperature using astropy\n",
    "import numpy as np\n",
    "from scipy import constants\n",
    "from astropy import units as u\n",
    "def b2t_v1(brightness, source_size, freq): #brightness in Jy/beam, source size in arcsec, freq in GHz\n",
    "    source_size = source_size*u.arcsec \n",
    "    beam_area = np.pi*source_size**2/(4*np.log(2)) #beam area in arcsec^2\n",
    "    freq = freq*u.GHz\n",
    "    equiv = u.brightness_temperature(freq)\n",
    "    T = (brightness*u.Jy/beam_area).to(u.K, equivalencies=equiv) #convert brightness from Jy/beam to brightness temperature in K\n",
    "    return T #unit K"
   ]
  },
  {
   "cell_type": "code",
   "execution_count": null,
   "metadata": {},
   "outputs": [],
   "source": [
    "#alternative for converting brightness to temperature\n",
    "def b2t(brightness, source_size, freq): #brightness in Jy/beam, source size is diameter of source in arcsec, frequency in GHz\n",
    "    beam_area_str = np.pi*np.radians(source_size/3600)**2/(4*np.log(2)) #beam area in str     \n",
    "    T = brightness*1e-26/beam_area_str*(constants.c**2)/(2*((freq*1e9)**2)*constants.k) #brightness*1e-26 to convert Jy to SI unit, T in K, Rayleigh-Jeans approximation\n",
    "    return T #unit K"
   ]
  },
  {
   "cell_type": "code",
   "execution_count": null,
   "metadata": {},
   "outputs": [],
   "source": [
    "#convert temperature to brightness\n",
    "def t2b(temperature, source_size, freq): #brightness temperature in K, source size is diameter of source in arcsec, frequency in GHz\n",
    "    beam_area_str = np.pi*np.radians(source_size/3600)**2/(4*np.log(2)) #beam area in str\n",
    "    brightness = temperature*(2*((freq*1e9)**2)*constants.k)*beam_area_str/(constants.c**2)/1e-26 #brightness/1e-26 to convert SI unit to Jy, brightness temperature in K, Rayleigh-Jeans approximation\n",
    "    return brightness #unit Jy/beam"
   ]
  }
 ],
 "metadata": {
  "kernelspec": {
   "display_name": "Python 3",
   "language": "python",
   "name": "python3"
  },
  "language_info": {
   "codemirror_mode": {
    "name": "ipython",
    "version": 3
   },
   "file_extension": ".py",
   "mimetype": "text/x-python",
   "name": "python",
   "nbconvert_exporter": "python",
   "pygments_lexer": "ipython3",
   "version": "3.7.6"
  }
 },
 "nbformat": 4,
 "nbformat_minor": 4
}
